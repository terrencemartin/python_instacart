{
 "cells": [
  {
   "cell_type": "code",
   "execution_count": 1,
   "id": "983573ee",
   "metadata": {},
   "outputs": [],
   "source": [
    "# Import libraries\n",
    "import pandas as pd\n",
    "import numpy as np\n",
    "import os\n",
    "path=r'C:\\Users\\t3mar\\Career Foundry\\Data Analytics\\Project 4 Instacart\\02 Data'"
   ]
  },
  {
   "cell_type": "code",
   "execution_count": 2,
   "id": "97770911",
   "metadata": {},
   "outputs": [],
   "source": [
    "df = pd.read_pickle(os.path.join(path, 'Prepared Data', 'CstOrdPrd1.pkl'))"
   ]
  },
  {
   "cell_type": "code",
   "execution_count": 3,
   "id": "0755f780",
   "metadata": {
    "scrolled": true
   },
   "outputs": [],
   "source": [
    "df['max_order'] = df.groupby(['user_id'])['order_number'].transform(np.max)"
   ]
  },
  {
   "cell_type": "code",
   "execution_count": 4,
   "id": "61534ad3",
   "metadata": {},
   "outputs": [],
   "source": [
    "df.loc[df['max_order'] > 40, 'loyalty_flag'] = 'loyal customer'\n",
    "df.loc[(df['max_order'] <= 40) & (df ['max_order'] > 10), 'loyalty_flag'] = 'regular customer'\n",
    "df.loc[df['max_order'] <= 10, 'loyalty_flag'] = 'new customer'"
   ]
  },
  {
   "cell_type": "code",
   "execution_count": 5,
   "id": "99c78929",
   "metadata": {},
   "outputs": [],
   "source": [
    "df.to_pickle(os.path.join(path, 'Prepared Data', 'CstOrdPrd2.pkl'))"
   ]
  },
  {
   "cell_type": "code",
   "execution_count": null,
   "id": "c559d7ac",
   "metadata": {},
   "outputs": [],
   "source": []
  }
 ],
 "metadata": {
  "kernelspec": {
   "display_name": "Python 3 (ipykernel)",
   "language": "python",
   "name": "python3"
  },
  "language_info": {
   "codemirror_mode": {
    "name": "ipython",
    "version": 3
   },
   "file_extension": ".py",
   "mimetype": "text/x-python",
   "name": "python",
   "nbconvert_exporter": "python",
   "pygments_lexer": "ipython3",
   "version": "3.10.9"
  }
 },
 "nbformat": 4,
 "nbformat_minor": 5
}
