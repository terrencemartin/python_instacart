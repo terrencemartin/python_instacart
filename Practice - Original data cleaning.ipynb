{
 "cells": [
  {
   "cell_type": "markdown",
   "id": "497bb5b0",
   "metadata": {},
   "source": [
    "# Import"
   ]
  },
  {
   "cell_type": "code",
   "execution_count": 11,
   "id": "20987ad8",
   "metadata": {},
   "outputs": [],
   "source": [
    "# import libraries\n",
    "import pandas as pd\n",
    "import numpy as np\n",
    "import os"
   ]
  },
  {
   "cell_type": "code",
   "execution_count": 12,
   "id": "a3b87814",
   "metadata": {},
   "outputs": [],
   "source": [
    "# set path\n",
    "path=r'C:\\Users\\t3mar\\Career Foundry\\Data Analytics\\Project 4 Instacart\\02 Data'"
   ]
  },
  {
   "cell_type": "code",
   "execution_count": 14,
   "id": "8e1f8a1e",
   "metadata": {},
   "outputs": [],
   "source": [
    "# import data\n",
    "df_ord = pd.read_csv(os.path.join(path, 'Original Data', 'orders.csv'), index_col = False)\n",
    "df_prd = pd.read_csv(os.path.join(path, 'Original Data', 'products.csv'), index_col = False)\n",
    "df_dep = pd.read_csv(os.path.join(path, 'Original Data', 'departments.csv'), index_col = False)"
   ]
  },
  {
   "cell_type": "markdown",
   "id": "eb72baa7",
   "metadata": {},
   "source": [
    "# Clean orders and departments"
   ]
  },
  {
   "cell_type": "code",
   "execution_count": 20,
   "id": "0cabb665",
   "metadata": {},
   "outputs": [],
   "source": [
    "# drop useless column\n",
    "df_ord=df_ord.drop(columns = ['eval_set'])"
   ]
  },
  {
   "cell_type": "code",
   "execution_count": 23,
   "id": "810d2339",
   "metadata": {},
   "outputs": [],
   "source": [
    "# rename column\n",
    "df_ord.rename(columns = {'order_dow' : 'weekday'}, inplace = True)"
   ]
  },
  {
   "cell_type": "code",
   "execution_count": 28,
   "id": "88d07a69",
   "metadata": {},
   "outputs": [],
   "source": [
    "# swap axes\n",
    "df_dep_t = df_dep.T"
   ]
  },
  {
   "cell_type": "code",
   "execution_count": 31,
   "id": "49effd89",
   "metadata": {},
   "outputs": [],
   "source": [
    "# new header\n",
    "new_header = df_dep_t.iloc[0]"
   ]
  },
  {
   "cell_type": "code",
   "execution_count": 36,
   "id": "56115b4e",
   "metadata": {},
   "outputs": [],
   "source": [
    "#remove old header\n",
    "df_dep_t_new = df_dep_t[1:]"
   ]
  },
  {
   "cell_type": "code",
   "execution_count": 38,
   "id": "76406ec2",
   "metadata": {},
   "outputs": [],
   "source": [
    "#insert new header\n",
    "df_dep_t_new.columns = new_header"
   ]
  },
  {
   "cell_type": "markdown",
   "id": "6dd1925f",
   "metadata": {},
   "source": [
    "# Export"
   ]
  },
  {
   "cell_type": "code",
   "execution_count": 42,
   "id": "ecf82b69",
   "metadata": {},
   "outputs": [],
   "source": [
    "# wrangled orders (deleted column)\n",
    "df_ord.to_csv(os.path.join(path, 'Prepared Data', 'Orders WRNGLD.csv'))"
   ]
  },
  {
   "cell_type": "code",
   "execution_count": 43,
   "id": "3fd6da1b",
   "metadata": {},
   "outputs": [],
   "source": [
    "# wrangled departments (cleaned format)\n",
    "df_dep_t_new.to_csv(os.path.join(path, 'Prepared Data', 'Departments WRNGLD.csv'))"
   ]
  },
  {
   "cell_type": "markdown",
   "id": "d8d09e10",
   "metadata": {},
   "source": [
    "# Clean products"
   ]
  },
  {
   "cell_type": "code",
   "execution_count": 45,
   "id": "60608833",
   "metadata": {
    "scrolled": true
   },
   "outputs": [
    {
     "data": {
      "text/plain": [
       "product_id        0\n",
       "product_name     16\n",
       "aisle_id          0\n",
       "department_id     0\n",
       "prices            0\n",
       "dtype: int64"
      ]
     },
     "execution_count": 45,
     "metadata": {},
     "output_type": "execute_result"
    }
   ],
   "source": [
    "# find nulls\n",
    "df_prd.isnull().sum()"
   ]
  },
  {
   "cell_type": "code",
   "execution_count": 48,
   "id": "067019fe",
   "metadata": {},
   "outputs": [],
   "source": [
    "# remove nulls\n",
    "df_prd_clean = df_prd[df_prd['product_name'].isnull() == False]"
   ]
  },
  {
   "cell_type": "code",
   "execution_count": 52,
   "id": "aa7d80f7",
   "metadata": {},
   "outputs": [],
   "source": [
    "# remove duplicates\n",
    "df_prd_clean_no_dups = df_prd_clean.drop_duplicates()"
   ]
  },
  {
   "cell_type": "markdown",
   "id": "79fdc60c",
   "metadata": {},
   "source": [
    "# Export"
   ]
  },
  {
   "cell_type": "code",
   "execution_count": 54,
   "id": "c9b2cc41",
   "metadata": {},
   "outputs": [],
   "source": [
    "# cleaned products\n",
    "df_prd_clean_no_dups.to_csv(os.path.join(path, 'Prepared Data', 'Products WRNGLD.csv'))"
   ]
  }
 ],
 "metadata": {
  "kernelspec": {
   "display_name": "Python 3 (ipykernel)",
   "language": "python",
   "name": "python3"
  },
  "language_info": {
   "codemirror_mode": {
    "name": "ipython",
    "version": 3
   },
   "file_extension": ".py",
   "mimetype": "text/x-python",
   "name": "python",
   "nbconvert_exporter": "python",
   "pygments_lexer": "ipython3",
   "version": "3.10.9"
  }
 },
 "nbformat": 4,
 "nbformat_minor": 5
}
